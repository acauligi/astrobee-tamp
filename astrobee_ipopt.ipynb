{
 "cells": [
  {
   "cell_type": "code",
   "execution_count": 1,
   "metadata": {},
   "outputs": [],
   "source": [
    "%load_ext autoreload\n",
    "%autoreload 2\n",
    "\n",
    "import matplotlib.pyplot as plt\n",
    "%matplotlib inline\n",
    "\n",
    "from astrobee_strips import STRIPS, Node, Queue, get_plan\n",
    "\n",
    "from sys import path\n",
    "path.append('/home/acauligi/Software')\n",
    "\n",
    "import pdb\n",
    "import numpy as np\n",
    "from casadi import *"
   ]
  },
  {
   "cell_type": "markdown",
   "metadata": {},
   "source": [
    "# STRIPS planner"
   ]
  },
  {
   "cell_type": "code",
   "execution_count": 2,
   "metadata": {},
   "outputs": [],
   "source": [
    "strip = STRIPS()\n",
    "n0 = Node(strip)\n",
    "qq = Queue()\n",
    "qq.queue(n0)\n",
    "\n",
    "operators = ['dock_objA_dockA', 'dock_objA_dockB', 'dock_objA_dockC', \\\n",
    "            'dock_objB_dockA', 'dock_objB_dockB', 'dock_objB_dockC', \\\n",
    "            'undock_objA_dockA', 'undock_objA_dockB', 'undock_objA_dockC', \\\n",
    "            'undock_objB_dockA', 'undock_objB_dockB', 'undock_objB_dockC', \\\n",
    "            'grasp_objA', 'grasp_objB']\n",
    "\n",
    "max_depth = 5"
   ]
  },
  {
   "cell_type": "code",
   "execution_count": 3,
   "metadata": {},
   "outputs": [
    {
     "name": "stdout",
     "output_type": "stream",
     "text": [
      "solved\n"
     ]
    }
   ],
   "source": [
    "while not qq.is_empty():\n",
    "    if all([node.depth >= max_depth for node in qq.list]):\n",
    "        print('Max depth violated')\n",
    "        break\n",
    "\n",
    "    leaf_node = qq.dequeue()\n",
    "    for operator in operators:\n",
    "        new_leaf = leaf_node.act(operator)\n",
    "        if all(new_leaf.strip.state == leaf_node.strip.state):\n",
    "            continue\n",
    "        qq.queue(new_leaf)\n",
    "\n",
    "    if any([node.solved for node in qq.list]):\n",
    "        print('solved')\n",
    "        break"
   ]
  },
  {
   "cell_type": "code",
   "execution_count": 4,
   "metadata": {},
   "outputs": [
    {
     "data": {
      "text/plain": [
       "['undock_objA_dockB', 'dock_objA_dockA', 'grasp_objB', 'dock_objB_dockB']"
      ]
     },
     "execution_count": 4,
     "metadata": {},
     "output_type": "execute_result"
    }
   ],
   "source": [
    "solved_node = [node for node in qq.list if node.solved][0]\n",
    "plan = get_plan(solved_node)\n",
    "plan"
   ]
  },
  {
   "cell_type": "markdown",
   "metadata": {},
   "source": [
    "# TAMP Class\n"
   ]
  },
  {
   "cell_type": "code",
   "execution_count": 5,
   "metadata": {},
   "outputs": [],
   "source": [
    "from astrobee_tamp import AstrobeeTAMP\n",
    "\n",
    "Xi = np.array([3.,3.,3., 0.,0.,0.,1., 0.05,-0.05,0.02, 0.01,-0.01,0.01])\n",
    "\n",
    "Xref = DM([0.,0.1,0., 0.5,0.5,0.5,0.5, 0.,0.,0., 0.,0.,0.])\n",
    "\n",
    "at = AstrobeeTAMP(Xi, Xref)\n",
    "\n",
    "at.plan = plan"
   ]
  },
  {
   "cell_type": "code",
   "execution_count": 6,
   "metadata": {},
   "outputs": [
    {
     "name": "stdout",
     "output_type": "stream",
     "text": [
      "\n",
      "******************************************************************************\n",
      "This program contains Ipopt, a library for large-scale nonlinear optimization.\n",
      " Ipopt is released as open source code under the Eclipse Public License (EPL).\n",
      "         For more information visit http://projects.coin-or.org/Ipopt\n",
      "******************************************************************************\n",
      "\n",
      "This is Ipopt version 3.12.3, running with linear solver mumps.\n",
      "NOTE: Other linear solvers might be more efficient (see Ipopt documentation).\n",
      "\n",
      "Number of nonzeros in equality constraint Jacobian...:        0\n",
      "Number of nonzeros in inequality constraint Jacobian.:        0\n",
      "Number of nonzeros in Lagrangian Hessian.............:        0\n",
      "\n",
      "Total number of variables............................:      539\n",
      "                     variables with only lower bounds:        0\n",
      "                variables with lower and upper bounds:      452\n",
      "                     variables with only upper bounds:        0\n",
      "Total number of equality constraints.................:        0\n",
      "Total number of inequality constraints...............:        0\n",
      "        inequality constraints with only lower bounds:        0\n",
      "   inequality constraints with lower and upper bounds:        0\n",
      "        inequality constraints with only upper bounds:        0\n",
      "\n",
      "iter    objective    inf_pr   inf_du lg(mu)  ||d||  lg(rg) alpha_du alpha_pr  ls\n",
      "   0  0.0000000e+00 0.00e+00 0.00e+00  -1.0 0.00e+00    -  0.00e+00 0.00e+00   0\n",
      "   1  0.0000000e+00 0.00e+00 9.70e-06  -1.0 9.80e-02  -4.0 9.90e-01 1.00e+00f  1\n",
      "   2  0.0000000e+00 0.00e+00 1.25e-05  -1.0 3.77e-01  -4.5 9.92e-01 1.00e+00f  1\n",
      "   3  0.0000000e+00 0.00e+00 3.35e-08  -1.7 3.01e-03  -5.0 1.00e+00 1.00e+00f  1\n",
      "   4  0.0000000e+00 0.00e+00 3.36e-10  -3.8 9.06e-05  -5.4 1.00e+00 1.00e+00f  1\n",
      "   5  0.0000000e+00 0.00e+00 1.81e-10  -5.7 1.47e-04  -5.9 1.00e+00 1.00e+00f  1\n",
      "   6  0.0000000e+00 0.00e+00 6.42e-12  -8.6 1.56e-05  -6.4 1.00e+00 1.00e+00f  1\n",
      "\n",
      "Number of Iterations....: 6\n",
      "\n",
      "                                   (scaled)                 (unscaled)\n",
      "Objective...............:   0.0000000000000000e+00    0.0000000000000000e+00\n",
      "Dual infeasibility......:   6.4245233981848645e-12    6.4245233981848645e-12\n",
      "Constraint violation....:   0.0000000000000000e+00    0.0000000000000000e+00\n",
      "Complementarity.........:   2.5634280892672736e-09    2.5634280892672736e-09\n",
      "Overall NLP error.......:   2.5634280892672736e-09    2.5634280892672736e-09\n",
      "\n",
      "\n",
      "Number of objective function evaluations             = 7\n",
      "Number of objective gradient evaluations             = 7\n",
      "Number of equality constraint evaluations            = 0\n",
      "Number of inequality constraint evaluations          = 0\n",
      "Number of equality constraint Jacobian evaluations   = 0\n",
      "Number of inequality constraint Jacobian evaluations = 0\n",
      "Number of Lagrangian Hessian evaluations             = 6\n",
      "Total CPU secs in IPOPT (w/o function evaluations)   =      0.014\n",
      "Total CPU secs in NLP function evaluations           =      0.000\n",
      "\n",
      "EXIT: Optimal Solution Found.\n",
      "           S  :   t_proc      (avg)   t_wall      (avg)    n_eval\n",
      "       nlp_f  |  53.00us (  7.57us)  15.52us (  2.22us)         7\n",
      "  nlp_grad_f  |  68.00us (  8.50us)  21.66us (  2.71us)         8\n",
      "  nlp_hess_l  |  28.00us (  4.67us)   8.39us (  1.40us)         6\n",
      "       total  |  22.28ms ( 22.28ms)   7.22ms (  7.22ms)         1\n"
     ]
    },
    {
     "data": {
      "text/plain": [
       "True"
      ]
     },
     "execution_count": 6,
     "metadata": {},
     "output_type": "execute_result"
    }
   ],
   "source": [
    "at.unroll_plan()\n",
    "at.init_straightline()\n",
    "\n",
    "at.construct_problem()\n",
    "at.solve_problem()"
   ]
  }
 ],
 "metadata": {
  "kernelspec": {
   "display_name": "tamp",
   "language": "python",
   "name": "tamp"
  },
  "language_info": {
   "codemirror_mode": {
    "name": "ipython",
    "version": 3
   },
   "file_extension": ".py",
   "mimetype": "text/x-python",
   "name": "python",
   "nbconvert_exporter": "python",
   "pygments_lexer": "ipython3",
   "version": "3.6.3"
  }
 },
 "nbformat": 4,
 "nbformat_minor": 2
}
