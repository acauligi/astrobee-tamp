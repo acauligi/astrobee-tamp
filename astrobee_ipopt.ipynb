{
 "cells": [
  {
   "cell_type": "code",
   "execution_count": 1,
   "metadata": {},
   "outputs": [],
   "source": [
    "%load_ext autoreload\n",
    "%autoreload 2\n",
    "\n",
    "import matplotlib.pyplot as plt\n",
    "%matplotlib inline\n",
    "\n",
    "from astrobee_strips import STRIPS, Node, Queue, get_plan\n",
    "\n",
    "from sys import path\n",
    "path.append('/home/acauligi/Software')\n",
    "\n",
    "import pdb\n",
    "import numpy as np\n",
    "from casadi import *"
   ]
  },
  {
   "cell_type": "markdown",
   "metadata": {},
   "source": [
    "# STRIPS planner"
   ]
  },
  {
   "cell_type": "code",
   "execution_count": 2,
   "metadata": {},
   "outputs": [],
   "source": [
    "strip = STRIPS()\n",
    "n0 = Node(strip)\n",
    "qq = Queue()\n",
    "qq.queue(n0)\n",
    "\n",
    "operators = ['dock_objA_dockA', 'dock_objA_dockB', 'dock_objA_dockC', \\\n",
    "            'dock_objB_dockA', 'dock_objB_dockB', 'dock_objB_dockC', \\\n",
    "            'undock_objA_dockA', 'undock_objA_dockB', 'undock_objA_dockC', \\\n",
    "            'undock_objB_dockA', 'undock_objB_dockB', 'undock_objB_dockC', \\\n",
    "            'grasp_objA', 'grasp_objB']\n",
    "\n",
    "max_depth = 5"
   ]
  },
  {
   "cell_type": "code",
   "execution_count": 3,
   "metadata": {},
   "outputs": [
    {
     "name": "stdout",
     "output_type": "stream",
     "text": [
      "solved\n"
     ]
    }
   ],
   "source": [
    "while not qq.is_empty():\n",
    "    if all([node.depth >= max_depth for node in qq.list]):\n",
    "        print('Max depth violated')\n",
    "        break\n",
    "\n",
    "    leaf_node = qq.dequeue()\n",
    "    for operator in operators:\n",
    "        new_leaf = leaf_node.act(operator)\n",
    "        if all(new_leaf.strip.state == leaf_node.strip.state):\n",
    "            continue\n",
    "        qq.queue(new_leaf)\n",
    "\n",
    "    if any([node.solved for node in qq.list]):\n",
    "        print('solved')\n",
    "        break"
   ]
  },
  {
   "cell_type": "code",
   "execution_count": 4,
   "metadata": {},
   "outputs": [
    {
     "data": {
      "text/plain": [
       "['undock_objA_dockB', 'dock_objA_dockA', 'grasp_objB', 'dock_objB_dockB']"
      ]
     },
     "execution_count": 4,
     "metadata": {},
     "output_type": "execute_result"
    }
   ],
   "source": [
    "solved_node = [node for node in qq.list if node.solved][0]\n",
    "plan = get_plan(solved_node)\n",
    "plan"
   ]
  },
  {
   "cell_type": "markdown",
   "metadata": {},
   "source": [
    "# TAMP Class\n"
   ]
  },
  {
   "cell_type": "code",
   "execution_count": 5,
   "metadata": {},
   "outputs": [
    {
     "name": "stdout",
     "output_type": "stream",
     "text": [
      "['undock_objA_dockB', 'dock_objA_dockA', 'grasp_objB', 'dock_objB_dockB']\n"
     ]
    }
   ],
   "source": [
    "from astrobee_tamp import AstrobeeTAMP\n",
    "\n",
    "mode = 'double_integrator'\n",
    "\n",
    "if mode == 'nonlinear':\n",
    "    Xi = np.array([3.,3.,3., 0.,0.,0.,1., 0.05,-0.05,0.02, 0.01,-0.01,0.01])\n",
    "    Xref = DM([0.,0.1,0., 0.5,0.5,0.5,0.5, 0.,0.,0., 0.,0.,0.])\n",
    "elif mode == 'double_integrator':\n",
    "    Xi = np.array([3.,3., 0., 0.])\n",
    "    Xref = DM([0.,0.1, 0., 0.])\n",
    "\n",
    "at = AstrobeeTAMP(Xi, Xref, mode=mode)\n",
    "\n",
    "at.plan = plan\n",
    "print(plan)"
   ]
  },
  {
   "cell_type": "code",
   "execution_count": 6,
   "metadata": {},
   "outputs": [
    {
     "name": "stdout",
     "output_type": "stream",
     "text": [
      "\n",
      "******************************************************************************\n",
      "This program contains Ipopt, a library for large-scale nonlinear optimization.\n",
      " Ipopt is released as open source code under the Eclipse Public License (EPL).\n",
      "         For more information visit http://projects.coin-or.org/Ipopt\n",
      "******************************************************************************\n",
      "\n",
      "This is Ipopt version 3.12.3, running with linear solver mumps.\n",
      "NOTE: Other linear solvers might be more efficient (see Ipopt documentation).\n",
      "\n",
      "Number of nonzeros in equality constraint Jacobian...:     1160\n",
      "Number of nonzeros in inequality constraint Jacobian.:        0\n",
      "Number of nonzeros in Lagrangian Hessian.............:      134\n",
      "\n",
      "Total number of variables............................:      316\n",
      "                     variables with only lower bounds:        0\n",
      "                variables with lower and upper bounds:      198\n",
      "                     variables with only upper bounds:        0\n",
      "Total number of equality constraints.................:      200\n",
      "Total number of inequality constraints...............:        0\n",
      "        inequality constraints with only lower bounds:        0\n",
      "   inequality constraints with lower and upper bounds:        0\n",
      "        inequality constraints with only upper bounds:        0\n",
      "\n",
      "iter    objective    inf_pr   inf_du lg(mu)  ||d||  lg(rg) alpha_du alpha_pr  ls\n",
      "   0  2.0000000e-01 1.50e+01 1.38e-03  -1.0 0.00e+00    -  0.00e+00 0.00e+00   0\n",
      "   1  6.6182984e+03 3.55e-15 7.21e-02  -1.0 1.01e+03    -  8.23e-01 1.00e+00h  1\n",
      "   2  6.0899272e+03 3.55e-15 2.91e-02  -1.0 5.57e+02    -  9.02e-01 1.00e+00f  1\n",
      "   3  6.0792309e+03 3.55e-15 1.29e-03  -1.0 8.17e+01    -  9.80e-01 1.00e+00f  1\n",
      "   4  6.0792207e+03 3.55e-15 2.13e-14  -1.0 2.65e+00    -  1.00e+00 1.00e+00f  1\n",
      "   5  6.0792207e+03 3.55e-15 3.55e-14  -2.5 4.48e-01    -  1.00e+00 1.00e+00f  1\n",
      "   6  6.0792207e+03 3.55e-15 2.84e-14  -3.8 8.65e-01    -  1.00e+00 1.00e+00h  1\n",
      "   7  6.0792207e+03 3.55e-15 2.13e-14  -5.7 1.89e-01    -  1.00e+00 1.00e+00h  1\n",
      "   8  6.0792207e+03 3.55e-15 3.20e-14  -8.6 2.07e-02    -  1.00e+00 1.00e+00h  1\n",
      "\n",
      "Number of Iterations....: 8\n",
      "\n",
      "                                   (scaled)                 (unscaled)\n",
      "Objective...............:   6.0792207185093848e+03    6.0792207185093848e+03\n",
      "Dual infeasibility......:   3.1974423109204508e-14    3.1974423109204508e-14\n",
      "Constraint violation....:   3.5527136788005009e-15    3.5527136788005009e-15\n",
      "Complementarity.........:   2.5150125008257557e-09    2.5150125008257557e-09\n",
      "Overall NLP error.......:   2.5150125008257557e-09    2.5150125008257557e-09\n",
      "\n",
      "\n",
      "Number of objective function evaluations             = 9\n",
      "Number of objective gradient evaluations             = 9\n",
      "Number of equality constraint evaluations            = 9\n",
      "Number of inequality constraint evaluations          = 0\n",
      "Number of equality constraint Jacobian evaluations   = 9\n",
      "Number of inequality constraint Jacobian evaluations = 0\n",
      "Number of Lagrangian Hessian evaluations             = 8\n",
      "Total CPU secs in IPOPT (w/o function evaluations)   =      0.015\n",
      "Total CPU secs in NLP function evaluations           =      0.002\n",
      "\n",
      "EXIT: Optimal Solution Found.\n",
      "           S  :   t_proc      (avg)   t_wall      (avg)    n_eval\n",
      "       nlp_f  | 202.00us ( 22.44us)  68.08us (  7.56us)         9\n",
      "       nlp_g  | 566.00us ( 62.89us) 187.78us ( 20.86us)         9\n",
      "  nlp_grad_f  | 413.00us ( 41.30us) 131.28us ( 13.13us)        10\n",
      "  nlp_hess_l  | 461.00us ( 57.62us) 154.40us ( 19.30us)         8\n",
      "   nlp_jac_g  |   2.09ms (209.40us) 682.31us ( 68.23us)        10\n",
      "       total  |  31.05ms ( 31.05ms)  10.19ms ( 10.19ms)         1\n"
     ]
    },
    {
     "data": {
      "text/plain": [
       "True"
      ]
     },
     "execution_count": 6,
     "metadata": {},
     "output_type": "execute_result"
    }
   ],
   "source": [
    "at.unroll_plan()\n",
    "\n",
    "at.construct_problem()\n",
    "at.solve_problem()"
   ]
  },
  {
   "cell_type": "code",
   "execution_count": 20,
   "metadata": {},
   "outputs": [],
   "source": [
    "# at.soln['f']\n",
    "# at.soln['x'].shape\n",
    "# len(plan)\n",
    "# len(at.X)\n",
    "# len(at.U)\n",
    "\n",
    "# at.dock_loc\n",
    "at.soln['x'].shape\n",
    "at.soln['x'][:4]\n",
    "\n",
    "N_plan = len(at.plan) * at.N\n",
    "X_prev, U_prev = np.zeros((at.n, N_plan)), np.zeros((at.m, N_plan))\n",
    "\n",
    "idx = 0\n",
    "for n in range(N_plan):\n",
    "    X_prev[:,n] = at.soln['x'][idx:idx+at.n].elements()\n",
    "    idx += at.n\n",
    "for n in range(N_plan):\n",
    "    U_prev[:,n] = at.soln['x'][idx:idx+at.m].elements()\n",
    "    idx += at.m"
   ]
  },
  {
   "cell_type": "code",
   "execution_count": 30,
   "metadata": {},
   "outputs": [
    {
     "data": {
      "image/png": "[encoded data removed]",
      "text/plain": [
       "<Figure size 432x288 with 1 Axes>"
      ]
     },
     "metadata": {
      "needs_background": "light"
     },
     "output_type": "display_data"
    },
    {
     "data": {
      "text/plain": [
       "<Figure size 432x288 with 0 Axes>"
      ]
     },
     "metadata": {},
     "output_type": "display_data"
    }
   ],
   "source": [
    "dock_w, dock_h = 2., 2.\n",
    "\n",
    "plt.axes()\n",
    "\n",
    "for (k,dock_loc) in at.dock_loc.items():\n",
    "    rectangle = plt.Rectangle((dock_loc[0], dock_loc[1]-dock_h), \\\n",
    "                              dock_w, dock_h, \\\n",
    "                             fc='red', ec='blue')\n",
    "    plt.gca().add_patch(rectangle)\n",
    "    plt.axis('scaled')\n",
    "\n",
    "plt.plot(X_prev[0,:], X_prev[1,:])\n",
    "\n",
    "posmin, posmax = np.array([0.,0.]), np.array([40.,15.])\n",
    "ax = plt.gca()\n",
    "ax.margins(0)\n",
    "ax.set(xlim=(posmin[0],posmax[0]), ylim=(posmin[1],posmax[1]))\n",
    "\n",
    "\n",
    "fig = plt.figure()\n",
    "plt.show()"
   ]
  },
  {
   "cell_type": "code",
   "execution_count": 32,
   "metadata": {},
   "outputs": [
    {
     "data": {
      "text/plain": [
       "array([ 3.        ,  3.26487647,  4.01020155,  5.13306085,  6.52144815,\n",
       "        8.05392115,  9.60223514, 11.03817068, 12.24018334, 13.09578271,\n",
       "       13.50117031, 13.65653974, 13.81191891, 13.96731232, 14.1227227 ,\n",
       "       14.27815101, 14.43359644, 14.58905636, 14.74452631, 14.9       ,\n",
       "       14.98469945, 14.9420427 , 14.8004085 , 14.58815883, 14.333631  ,\n",
       "       14.06513234, 13.81093619, 13.59927775, 13.45834828, 13.41628706,\n",
       "       13.50117031, 13.65653974, 13.81191891, 13.96731232, 14.1227227 ,\n",
       "       14.27815101, 14.43359644, 14.58905636, 14.74452631, 14.9       ])"
      ]
     },
     "execution_count": 32,
     "metadata": {},
     "output_type": "execute_result"
    }
   ],
   "source": [
    "X_prev[1,:]"
   ]
  }
 ],
 "metadata": {
  "kernelspec": {
   "display_name": "tamp",
   "language": "python",
   "name": "tamp"
  },
  "language_info": {
   "codemirror_mode": {
    "name": "ipython",
    "version": 3
   },
   "file_extension": ".py",
   "mimetype": "text/x-python",
   "name": "python",
   "nbconvert_exporter": "python",
   "pygments_lexer": "ipython3",
   "version": "3.6.3"
  }
 },
 "nbformat": 4,
 "nbformat_minor": 2
}
