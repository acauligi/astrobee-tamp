{
 "cells": [
  {
   "cell_type": "code",
   "execution_count": 1,
   "metadata": {},
   "outputs": [],
   "source": [
    "%load_ext autoreload\n",
    "%autoreload 2\n",
    "\n",
    "import matplotlib.pyplot as plt\n",
    "%matplotlib inline\n",
    "\n",
    "from astrobee_strips import STRIPS, Node, Queue, get_plan\n",
    "\n",
    "from sys import path\n",
    "path.append('/home/acauligi/Software')\n",
    "\n",
    "import pdb\n",
    "import numpy as np\n",
    "from casadi import *"
   ]
  },
  {
   "cell_type": "markdown",
   "metadata": {},
   "source": [
    "# STRIPS planner"
   ]
  },
  {
   "cell_type": "code",
   "execution_count": 2,
   "metadata": {},
   "outputs": [],
   "source": [
    "strip = STRIPS()\n",
    "n0 = Node(strip)\n",
    "qq = Queue()\n",
    "qq.queue(n0)\n",
    "\n",
    "operators = ['dock_objA_dockA', 'dock_objA_dockB', 'dock_objA_dockC', \\\n",
    "            'dock_objB_dockA', 'dock_objB_dockB', 'dock_objB_dockC', \\\n",
    "            'undock_objA_dockA', 'undock_objA_dockB', 'undock_objA_dockC', \\\n",
    "            'undock_objB_dockA', 'undock_objB_dockB', 'undock_objB_dockC', \\\n",
    "            'grasp_objA', 'grasp_objB']\n",
    "\n",
    "max_depth = 5"
   ]
  },
  {
   "cell_type": "code",
   "execution_count": 3,
   "metadata": {},
   "outputs": [
    {
     "name": "stdout",
     "output_type": "stream",
     "text": [
      "solved\n"
     ]
    }
   ],
   "source": [
    "while not qq.is_empty():\n",
    "    if all([node.depth >= max_depth for node in qq.list]):\n",
    "        print('Max depth violated')\n",
    "        break\n",
    "\n",
    "    leaf_node = qq.dequeue()\n",
    "    for operator in operators:\n",
    "        new_leaf = leaf_node.act(operator)\n",
    "        if all(new_leaf.strip.state == leaf_node.strip.state):\n",
    "            continue\n",
    "        qq.queue(new_leaf)\n",
    "\n",
    "    if any([node.solved for node in qq.list]):\n",
    "        print('solved')\n",
    "        break"
   ]
  },
  {
   "cell_type": "code",
   "execution_count": 4,
   "metadata": {},
   "outputs": [
    {
     "data": {
      "text/plain": [
       "['undock_objA_dockB', 'dock_objA_dockA', 'grasp_objB', 'dock_objB_dockB']"
      ]
     },
     "execution_count": 4,
     "metadata": {},
     "output_type": "execute_result"
    }
   ],
   "source": [
    "solved_node = [node for node in qq.list if node.solved][0]\n",
    "plan = get_plan(solved_node)\n",
    "plan"
   ]
  },
  {
   "cell_type": "markdown",
   "metadata": {},
   "source": [
    "# Ipopt"
   ]
  },
  {
   "cell_type": "code",
   "execution_count": 2,
   "metadata": {},
   "outputs": [],
   "source": [
    "n = 13\n",
    "m = 6\n",
    "\n",
    "N = 50\n",
    "\n",
    "R = np.eye(m) # cost matrix for 2PBVP\n",
    "\n",
    "slew_weighting = 1.2 \n",
    "max_se3_dist = 1.50 \n",
    "\n",
    "# robot parameters\n",
    "J = np.array([[0.1083, 0.0, 0.0],\n",
    "            [0.0, 0.1083, 0.0],\n",
    "            [0.0, 0.0, 0.1083]])\n",
    "Jxx, Jyy, Jzz = np.diag(J)\n",
    "Jinv = np.linalg.inv(J)\n",
    "mass = 7.0\n",
    "\n",
    "hard_limit_vel   = 0.50\n",
    "hard_limit_accel = 0.10\n",
    "hard_limit_vel   = 5000.\n",
    "hard_limit_accel = 1000.\n",
    "hard_limit_omega = 45*np.pi/180\n",
    "hard_limit_alpha = 50*np.pi/180\n",
    "\n",
    "# state box constraints\n",
    "Xlb = np.array([-np.inf,-np.inf,-np.inf, \n",
    "-hard_limit_vel/np.sqrt(3),-hard_limit_vel/np.sqrt(3),-hard_limit_vel/np.sqrt(3),\n",
    "-1.0,-1.0,-1.0,0.0,\n",
    "-hard_limit_omega/np.sqrt(3),-hard_limit_omega/np.sqrt(3),-hard_limit_omega/np.sqrt(3)])\n",
    "Xub = np.array([np.inf,np.inf,np.inf, \n",
    "hard_limit_vel/np.sqrt(3),hard_limit_vel/np.sqrt(3),hard_limit_vel/np.sqrt(3),\n",
    "1.0,1.0,1.0,1.0,\n",
    "hard_limit_omega/np.sqrt(3),hard_limit_omega/np.sqrt(3),hard_limit_omega/np.sqrt(3)])\n",
    "\n",
    "# control box constraints\n",
    "Jmin = np.min(np.diag(J))\n",
    "Ulb = np.array([-mass*hard_limit_accel/np.sqrt(3), -mass*hard_limit_accel/np.sqrt(3), -mass*hard_limit_accel/np.sqrt(3), -Jmin*hard_limit_alpha/np.sqrt(3), -Jmin*hard_limit_alpha/np.sqrt(3), -Jmin*hard_limit_alpha/np.sqrt(3)])\n",
    "Uub = np.array([mass*hard_limit_accel/np.sqrt(3), mass*hard_limit_accel/np.sqrt(3), mass*hard_limit_accel/np.sqrt(3),  Jmin*hard_limit_alpha/np.sqrt(3), Jmin*hard_limit_alpha/np.sqrt(3), Jmin*hard_limit_alpha/np.sqrt(3)])\n",
    "\n",
    "# time constraints\n",
    "taulb = np.array([0.1])\n",
    "tauub = np.array([100.0])\n",
    "tau_guess = 50.0 \n",
    "\n",
    "param_dict =  {'n':n, 'm':m, 'N':N, 'R':R, 'slew_weighting':slew_weighting, 'max_se3_dist':max_se3_dist, 'J':J, 'Jinv':Jinv, 'mass':mass, \n",
    "      'hard_limit_vel':hard_limit_vel, 'hard_limit_accel':hard_limit_accel, 'hard_limit_omega':hard_limit_omega, 'hard_limit_alpha':hard_limit_alpha, \n",
    "      'Xlb':Xlb, 'Xub':Xub, 'Ulb':Ulb, 'Uub':Uub, 'taulb':taulb, 'tauub':tauub, 'tau_guess':tau_guess}"
   ]
  },
  {
   "cell_type": "markdown",
   "metadata": {},
   "source": [
    "Declare model variables"
   ]
  },
  {
   "cell_type": "code",
   "execution_count": 3,
   "metadata": {},
   "outputs": [],
   "source": [
    "rx = MX.sym('rx');    ry = MX.sym('ry');    rz = MX.sym('rz');\n",
    "qx = MX.sym('qx');    qy = MX.sym('qy');    qz = MX.sym('qz');    qw = MX.sym('qw');\n",
    "vx = MX.sym('vx');    vy = MX.sym('vy');    vz = MX.sym('vz');\n",
    "wx = MX.sym('wx');    wy = MX.sym('wy');    wz = MX.sym('wz');\n",
    "quat = vertcat(qx,qy,qz,qw)\n",
    "state = vertcat(rx,ry,rz,qx,qy,qz,qw,vx,vy,vz,wx,wy,wz)\n",
    "\n",
    "Fx = MX.sym('Fx');    Fy = MX.sym('Fy');    Fz = MX.sym('Fz');\n",
    "Mx = MX.sym('Mx');    My = MX.sym('My');    Mz = MX.sym('Mz');\n",
    "control = vertcat(Fx,Fy,Fz,Mx,My,Mz)"
   ]
  },
  {
   "cell_type": "markdown",
   "metadata": {},
   "source": [
    "System dynamics equations"
   ]
  },
  {
   "cell_type": "code",
   "execution_count": 4,
   "metadata": {},
   "outputs": [],
   "source": [
    "statedot = vertcat(vx,\n",
    "                vy,\n",
    "                vz,\n",
    "                0.5*(qy*wz - qz*wy + qw*wx),\n",
    "                0.5*(qz*wx - qx*wz + qw*wy),\n",
    "                0.5*(qx*wy - qy*wx + qw*wz),\n",
    "                0.5*(-qx*wx - qy*wy - qz*wz),\n",
    "                1/mass*Fx,\n",
    "                1/mass*Fy,\n",
    "                1/mass*Fz,\n",
    "                (Mx + Jyy*wy*wz - Jzz*wy*wz)/Jxx,\n",
    "                (My - Jxx*wx*wz + Jzz*wx*wz)/Jyy,\n",
    "                (Mz + Jxx*wx*wy - Jyy*wx*wy)/Jzz)\n",
    "\n",
    "f = Function('f', [state,control], [statedot])"
   ]
  },
  {
   "cell_type": "markdown",
   "metadata": {},
   "source": [
    "Start with an empty NLP"
   ]
  },
  {
   "cell_type": "code",
   "execution_count": 5,
   "metadata": {},
   "outputs": [],
   "source": [
    "w = []    # the decision variables lbw < w < ubw\n",
    "lbw = []  # lower bound constraint on dec var\n",
    "ubw = []  # upper bound constraint on dec var\n",
    "g = []    # vector for constraints lbg < g(w,p) < ubg\n",
    "lbg = []  # lower bound on constraints\n",
    "ubg = []  # upper bound on constraints"
   ]
  },
  {
   "cell_type": "markdown",
   "metadata": {},
   "source": [
    "Declare decision variables"
   ]
  },
  {
   "cell_type": "code",
   "execution_count": 6,
   "metadata": {},
   "outputs": [],
   "source": [
    "X = []\n",
    "for k in range(N):\n",
    "    Xn = MX.sym('X_'+str(k), n)\n",
    "    X += [Xn]\n",
    "    w += [Xn]\n",
    "    lbw += Xlb.tolist()\n",
    "    ubw += Xub.tolist()\n",
    "\n",
    "# control\n",
    "U = []\n",
    "for k in range(N-1):\n",
    "    Un = MX.sym('U_' + str(k), m)\n",
    "    U += [Un]\n",
    "    lbw += Ulb.tolist()\n",
    "    ubw += Uub.tolist()\n",
    "    w   += [Un]"
   ]
  },
  {
   "cell_type": "markdown",
   "metadata": {},
   "source": [
    "Discrete update equation"
   ]
  },
  {
   "cell_type": "code",
   "execution_count": 7,
   "metadata": {},
   "outputs": [],
   "source": [
    "#  ODE right hand side function\n",
    "f = Function('f', [state,control],[statedot])\n",
    "\n",
    "# Integrate with Explicit Euler over 0.2 seconds\n",
    "dh = 0.01  # Time step\n",
    "xj = state\n",
    "n_steps = int(10)\n",
    "for ii in range(n_steps):\n",
    "    fj = f(xj,control)\n",
    "    xj += dh*fj\n",
    "\n",
    "# Discrete time dynamics function\n",
    "F = Function('F', [state,control],[xj])"
   ]
  },
  {
   "cell_type": "markdown",
   "metadata": {},
   "source": [
    "Dynamics propagation"
   ]
  },
  {
   "cell_type": "code",
   "execution_count": 8,
   "metadata": {},
   "outputs": [],
   "source": [
    "X0 = X[0]\n",
    "Q = X0\n",
    "for ii in range(N-1):\n",
    "    Q = F(Q, U[ii])\n",
    "    g += [Q] \n",
    "    lbg += [Xlb.tolist()]\n",
    "    ubg += [Xub.tolist()]"
   ]
  },
  {
   "cell_type": "markdown",
   "metadata": {},
   "source": [
    "Quaternion norm constraints"
   ]
  },
  {
   "cell_type": "code",
   "execution_count": 9,
   "metadata": {},
   "outputs": [],
   "source": [
    "qeps = 1e-1\n",
    "qnorm = Function('qnorm', [state], [qx**2+qy**2+qz**2+qw**2])\n",
    "for k in range(1,N):\n",
    "    Xn = X[k]\n",
    "    g += [qnorm(Xn)]\n",
    "    lbg += [1-qeps]\n",
    "    ubg += [1+qeps]"
   ]
  },
  {
   "cell_type": "code",
   "execution_count": 10,
   "metadata": {},
   "outputs": [],
   "source": [
    "Xi = np.array([3.,3.,3., 0.,0.,0.,1., 0.05,-0.05,0.02, 0.01,-0.01,0.01])\n",
    "\n",
    "Xref = DM([0.,0.1,0., 0.5,0.5,0.5,0.5, 0.,0.,0., 0.,0.,0.])"
   ]
  },
  {
   "cell_type": "markdown",
   "metadata": {},
   "source": [
    "Cost function"
   ]
  },
  {
   "cell_type": "code",
   "execution_count": 11,
   "metadata": {},
   "outputs": [],
   "source": [
    "J = 0.\n",
    "for ii in range(N):\n",
    "    stage_cost = (rx-Xref[0])**2 + (ry-Xref[1])**2 + (rz-Xref[2])**2 + \\\n",
    "        casadi.arccos(casadi.dot(Xref[3:7], quat)) + \\\n",
    "        vx**2 + vy**2 + vz**2 + wx**2 + wy**2 + wz**2 \n",
    "    stage_cost = casadi.dot(X[ii] - Xref, X[ii] - Xref)\n",
    "    J += stage_cost\n",
    "    \n",
    "for ii in range(N-1):\n",
    "    J +=  casadi.dot(U[ii], U[ii])"
   ]
  },
  {
   "cell_type": "code",
   "execution_count": 14,
   "metadata": {},
   "outputs": [],
   "source": [
    "prob = {'f': J, 'x': vertcat(*w), 'g': vertcat(*g)}\n",
    "solver = nlpsol('S', 'ipopt', prob);"
   ]
  },
  {
   "cell_type": "code",
   "execution_count": 12,
   "metadata": {},
   "outputs": [],
   "source": [
    "lbw[:n] = Xi.tolist()\n",
    "ubw[:n] = Xi.tolist()"
   ]
  },
  {
   "cell_type": "code",
   "execution_count": 15,
   "metadata": {},
   "outputs": [
    {
     "name": "stdout",
     "output_type": "stream",
     "text": [
      "\n",
      "******************************************************************************\n",
      "This program contains Ipopt, a library for large-scale nonlinear optimization.\n",
      " Ipopt is released as open source code under the Eclipse Public License (EPL).\n",
      "         For more information visit http://projects.coin-or.org/Ipopt\n",
      "******************************************************************************\n",
      "\n",
      "This is Ipopt version 3.12.3, running with linear solver mumps.\n",
      "NOTE: Other linear solvers might be more efficient (see Ipopt documentation).\n",
      "\n",
      "Number of nonzeros in equality constraint Jacobian...:        0\n",
      "Number of nonzeros in inequality constraint Jacobian.:    33271\n",
      "Number of nonzeros in Lagrangian Hessian.............:    11662\n",
      "\n",
      "Total number of variables............................:      931\n",
      "                     variables with only lower bounds:        0\n",
      "                variables with lower and upper bounds:      784\n",
      "                     variables with only upper bounds:        0\n",
      "Total number of equality constraints.................:        0\n",
      "Total number of inequality constraints...............:      686\n",
      "        inequality constraints with only lower bounds:        0\n",
      "   inequality constraints with lower and upper bounds:      539\n",
      "        inequality constraints with only upper bounds:        0\n",
      "\n",
      "iter    objective    inf_pr   inf_du lg(mu)  ||d||  lg(rg) alpha_du alpha_pr  ls\n",
      "   0  7.6910600e+01 9.00e-01 1.00e+00  -1.0 0.00e+00    -  0.00e+00 0.00e+00   0\n",
      "   1  7.6720683e+01 9.00e-01 9.79e+01  -1.0 9.02e-01    -  1.96e-01 2.20e-03h  1\n",
      "   2  4.2993160e+01 6.06e-01 2.05e+03  -1.0 1.32e+02   0.0 4.43e-02 2.36e-03f  1\n",
      "   3  3.8072693e+01 1.00e-01 7.36e+02  -1.0 3.21e-01   3.1 9.90e-01 9.90e-01f  1\n",
      "   4  3.6490170e+01 0.00e+00 2.05e+02  -1.0 7.87e-02   3.6 7.90e-01 9.94e-01f  1\n",
      "   5  3.6462590e+01 0.00e+00 2.22e+01  -1.0 1.58e-02   3.1 1.00e+00 1.00e+00f  1\n",
      "   6  3.6405514e+01 0.00e+00 9.07e+03  -1.0 7.35e-03   2.6 7.84e-01 1.00e+00f  1\n",
      "   7  3.6229092e+01 0.00e+00 1.42e+01  -1.0 1.59e-02   2.1 1.00e+00 1.00e+00f  1\n",
      "   8  3.6176393e+01 0.00e+00 9.65e+02  -1.0 5.38e-03   2.6 9.74e-01 1.00e+00f  1\n",
      "   9  3.5999476e+01 0.00e+00 1.18e+01  -1.0 1.59e-02   2.1 1.00e+00 1.00e+00f  1\n",
      "iter    objective    inf_pr   inf_du lg(mu)  ||d||  lg(rg) alpha_du alpha_pr  ls\n",
      "  10  3.5464404e+01 0.00e+00 1.62e+02  -1.0 2.44e-02   1.6 9.51e-01 1.00e+00f  1\n",
      "  11  3.4125563e+01 0.00e+00 1.06e+02  -1.0 5.05e-02   1.1 9.64e-01 1.00e+00f  1\n",
      "  12  3.2023411e+01 0.00e+00 6.86e+01  -1.0 9.87e-02   0.6 9.08e-01 1.00e+00f  1\n",
      "  13  3.1637535e+01 0.00e+00 6.38e-01  -1.0 3.04e-02   1.1 1.00e+00 1.00e+00f  1\n",
      "  14  2.9986814e+01 0.00e+00 5.31e-01  -1.7 6.31e-02   0.6 1.00e+00 1.00e+00f  1\n",
      "  15  2.8564036e+01 0.00e+00 9.81e-02  -1.7 7.59e-02   0.1 1.00e+00 1.00e+00f  1\n",
      "  16  2.7746367e+01 0.00e+00 4.78e-02  -2.5 8.32e-02  -0.4 1.00e+00 1.00e+00f  1\n",
      "  17  2.7539175e+01 0.00e+00 4.20e-02  -2.5 1.48e-01    -  1.00e+00 1.00e+00h  1\n",
      "  18  2.7522741e+01 0.00e+00 9.87e-04  -2.5 2.08e-02    -  1.00e+00 1.00e+00h  1\n",
      "  19  2.7453623e+01 0.00e+00 1.11e+02  -3.8 2.75e-02    -  8.87e-01 1.00e+00f  1\n",
      "iter    objective    inf_pr   inf_du lg(mu)  ||d||  lg(rg) alpha_du alpha_pr  ls\n",
      "  20  2.7431238e+01 0.00e+00 1.64e-03  -3.8 5.18e-02    -  1.00e+00 1.00e+00h  1\n",
      "  21  2.7424582e+01 0.00e+00 4.49e-04  -3.8 5.61e-02    -  1.00e+00 1.00e+00h  1\n",
      "  22  2.7423793e+01 0.00e+00 2.06e-05  -3.8 9.06e-03    -  1.00e+00 1.00e+00h  1\n",
      "  23  2.7418370e+01 0.00e+00 1.57e+01  -5.7 6.17e-02    -  7.96e-01 1.00e+00h  1\n",
      "  24  2.7416496e+01 0.00e+00 3.37e+00  -5.7 8.59e-02    -  9.36e-01 1.00e+00h  1\n",
      "  25  2.7415918e+01 0.00e+00 6.58e-04  -5.7 5.86e-02    -  1.00e+00 1.00e+00h  1\n",
      "  26  2.7415795e+01 0.00e+00 2.46e-04  -5.7 2.11e-02    -  1.00e+00 1.00e+00h  1\n",
      "  27  2.7415784e+01 0.00e+00 4.57e-06  -5.7 1.19e-03    -  1.00e+00 1.00e+00h  1\n",
      "  28  2.7415716e+01 0.00e+00 9.67e-02  -8.6 1.99e-02    -  9.78e-01 1.00e+00h  1\n",
      "  29  2.7415703e+01 0.00e+00 1.67e-04  -8.6 9.38e-03    -  1.00e+00 1.00e+00h  1\n",
      "iter    objective    inf_pr   inf_du lg(mu)  ||d||  lg(rg) alpha_du alpha_pr  ls\n",
      "  30  2.7415701e+01 0.00e+00 6.48e-04  -8.6 8.52e-04    -  9.52e-01 1.00e+00h  1\n",
      "  31  2.7415700e+01 0.00e+00 5.87e-08  -8.6 2.05e-04    -  1.00e+00 1.00e+00h  1\n",
      "  32  2.7415700e+01 0.00e+00 3.67e-13  -8.6 2.54e-05    -  1.00e+00 1.00e+00h  1\n",
      "\n",
      "Number of Iterations....: 32\n",
      "\n",
      "                                   (scaled)                 (unscaled)\n",
      "Objective...............:   2.7415700093140778e+01    2.7415700093140778e+01\n",
      "Dual infeasibility......:   3.6743302737102428e-13    3.6743302737102428e-13\n",
      "Constraint violation....:   0.0000000000000000e+00    0.0000000000000000e+00\n",
      "Complementarity.........:   3.7914039736106658e-09    3.7914039736106658e-09\n",
      "Overall NLP error.......:   3.7914039736106658e-09    3.7914039736106658e-09\n",
      "\n",
      "\n",
      "Number of objective function evaluations             = 33\n",
      "Number of objective gradient evaluations             = 33\n",
      "Number of equality constraint evaluations            = 0\n",
      "Number of inequality constraint evaluations          = 33\n",
      "Number of equality constraint Jacobian evaluations   = 0\n",
      "Number of inequality constraint Jacobian evaluations = 33\n",
      "Number of Lagrangian Hessian evaluations             = 32\n",
      "Total CPU secs in IPOPT (w/o function evaluations)   =      0.494\n",
      "Total CPU secs in NLP function evaluations           =     17.126\n",
      "\n",
      "EXIT: Optimal Solution Found.\n",
      "           S  :   t_proc      (avg)   t_wall      (avg)    n_eval\n",
      "       nlp_f  |   1.15ms ( 34.94us)   1.15ms ( 34.96us)        33\n",
      "       nlp_g  |  43.30ms (  1.31ms)  43.27ms (  1.31ms)        33\n",
      "  nlp_grad_f  |   1.03ms ( 30.41us)   1.04ms ( 30.57us)        34\n",
      "  nlp_hess_l  |  15.77 s (492.75ms)  15.74 s (492.03ms)        32\n",
      "   nlp_jac_g  |   1.36 s ( 39.90ms)   1.35 s ( 39.85ms)        34\n",
      "       total  |  17.64 s ( 17.64 s)  17.61 s ( 17.61 s)         1\n"
     ]
    }
   ],
   "source": [
    "use_guess = False\n",
    "if use_guess:\n",
    "    w0 = [] # initial guess of decision variables\n",
    "    for ii in range(N):\n",
    "        w0 += stateguess[ii].tolist()\n",
    "    for ii in range(N-1):\n",
    "        w0 += uguess[ii].tolist()\n",
    "    soln = solver(x0=w0, lbx=lbw, ubx=ubw, lbg=vertcat(*lbg), ubg=vertcat(*ubg))\n",
    "else:\n",
    "    soln = solver(lbx=lbw, ubx=ubw, lbg=vertcat(*lbg), ubg=vertcat(*ubg))"
   ]
  },
  {
   "cell_type": "code",
   "execution_count": null,
   "metadata": {},
   "outputs": [],
   "source": [
    "X_opt = np.reshape(np.asarray(soln['x'][:n*N]), (N,n)).T\n",
    "U_opt = np.reshape(np.asarray(soln['x'][n*N:]), (N-1,m)).T\n"
   ]
  },
  {
   "cell_type": "markdown",
   "metadata": {},
   "source": [
    "# SCP"
   ]
  },
  {
   "cell_type": "code",
   "execution_count": null,
   "metadata": {},
   "outputs": [],
   "source": [
    "from scp import update_f, update_A, update_B, slerp"
   ]
  },
  {
   "cell_type": "code",
   "execution_count": null,
   "metadata": {},
   "outputs": [],
   "source": [
    "n = 13\n",
    "m = 6\n",
    "\n",
    "N = 50\n",
    "\n",
    "R = np.eye(3) # cost matrix for 2PBVP\n",
    "\n",
    "# robot parameters\n",
    "J = np.array([[0.1083, 0.0, 0.0],\n",
    "            [0.0, 0.1083, 0.0],\n",
    "            [0.0, 0.0, 0.1083]])\n",
    "Jxx, Jyy, Jzz = np.diag(J)\n",
    "Jinv = np.linalg.inv(J)\n",
    "mass = 7.0\n",
    "\n",
    "hard_limit_vel   = 0.50\n",
    "hard_limit_accel = 0.10\n",
    "hard_limit_omega = 45*np.pi/180\n",
    "hard_limit_alpha = 50*np.pi/180\n",
    "\n",
    "hard_limit_accel = 5000.\n",
    "hard_limit_alpha   = 5000.\n",
    "\n",
    "# state box constraints\n",
    "Xlb = np.array([-np.inf,-np.inf,-np.inf, \n",
    "    -hard_limit_vel/np.sqrt(3),-hard_limit_vel/np.sqrt(3),-hard_limit_vel/np.sqrt(3),\n",
    "    -1.0,-1.0,-1.0,0.0,\n",
    "    -hard_limit_omega/np.sqrt(3),-hard_limit_omega/np.sqrt(3),-hard_limit_omega/np.sqrt(3)])\n",
    "Xub = np.array([np.inf,np.inf,np.inf, \n",
    "    hard_limit_vel/np.sqrt(3),hard_limit_vel/np.sqrt(3),hard_limit_vel/np.sqrt(3),\n",
    "    1.0,1.0,1.0,1.0,\n",
    "    hard_limit_omega/np.sqrt(3),hard_limit_omega/np.sqrt(3),hard_limit_omega/np.sqrt(3)])\n",
    "\n",
    "# control box constraints\n",
    "Jmin = np.min(np.diag(J))\n",
    "Ulb = np.array([-mass*hard_limit_accel/np.sqrt(3), -mass*hard_limit_accel/np.sqrt(3), -mass*hard_limit_accel/np.sqrt(3), -Jmin*hard_limit_alpha/np.sqrt(3), -Jmin*hard_limit_alpha/np.sqrt(3), -Jmin*hard_limit_alpha/np.sqrt(3)])\n",
    "Uub = np.array([mass*hard_limit_accel/np.sqrt(3), mass*hard_limit_accel/np.sqrt(3), mass*hard_limit_accel/np.sqrt(3),  Jmin*hard_limit_alpha/np.sqrt(3), Jmin*hard_limit_alpha/np.sqrt(3), Jmin*hard_limit_alpha/np.sqrt(3)])\n",
    "\n",
    "# time constraints\n",
    "taulb = np.array([0.1])\n",
    "tauub = np.array([100.0])\n",
    "tau_guess = 50.0 \n",
    "\n",
    "# param_dict =  {'n':n, 'm':m, 'N':N, 'R':R, 'slew_weighting':slew_weighting, 'max_se3_dist':max_se3_dist, 'J':J, 'Jinv':Jinv, 'mass':mass, \n",
    "#       'hard_limit_vel':hard_limit_vel, 'hard_limit_accel':hard_limit_accel, 'hard_limit_omega':hard_limit_omega, 'hard_limit_alpha':hard_limit_alpha, \n",
    "#       'Xlb':Xlb, 'Xub':Xub, 'Ulb':Ulb, 'Uub':Uub, 'taulb':taulb, 'tauub':tauub, 'tau_guess':tau_guess}\n",
    "\n",
    "params = {}\n",
    "params['mass'] = mass\n",
    "params['J'] = J\n",
    "params['hard_limit_vel'] = hard_limit_vel\n",
    "params['hard_limit_accel'] = hard_limit_accel\n",
    "params['hard_limit_omega'] = hard_limit_omega\n",
    "params['hard_limit_alpha'] = hard_limit_alpha\n",
    "\n",
    "Xi = np.array([3.,3.,3., 0.,0.,0.,1., 0.05,-0.05,0.02, 0.01,-0.01,0.01])\n",
    "\n",
    "Xref = DM([0.,0.1,0., 0.5,0.5,0.5,0.5, 0.,0.,0., 0.,0.,0.])"
   ]
  },
  {
   "cell_type": "code",
   "execution_count": null,
   "metadata": {},
   "outputs": [],
   "source": [
    "Xprev, Uprev = np.zeros((n,N)), np.zeros((m,N-1))\n",
    "for ii in range(3):\n",
    "    Xprev[ii,:] = np.linspace(Xi[ii], np.array(Xref)[ii], num=N).flatten()\n",
    "    Xprev[7+ii,:] = np.linspace(Xi[7+ii], np.array(Xref)[7+ii], num=N).flatten()\n",
    "    Xprev[10+ii,:] = np.linspace(Xi[10+ii], np.array(Xref)[10+ii], num=N).flatten()\n",
    "\n",
    "qi = Xi[3:7].flatten()\n",
    "qf = np.array(Xref)[3:7].flatten()\n",
    "for idx, time in enumerate(np.linspace(0.,1., N)):\n",
    "    Xprev[3:7, idx] = slerp(qi, qf, time)\n",
    "\n",
    "fs, As, Bs = [], [], []\n",
    "for idx in range(N-1):\n",
    "    fs.append(update_f(Xprev[:,idx], Uprev[:,idx], params))\n",
    "    As.append(update_A(Xprev[:,idx], Uprev[:,idx], params))\n",
    "    Bs.append(update_B(Xprev[:,idx], Uprev[:,idx], params))"
   ]
  },
  {
   "cell_type": "markdown",
   "metadata": {},
   "source": [
    "Declare model variables"
   ]
  },
  {
   "cell_type": "code",
   "execution_count": null,
   "metadata": {},
   "outputs": [],
   "source": [
    "rx = MX.sym('rx');    ry = MX.sym('ry');    rz = MX.sym('rz');\n",
    "qx = MX.sym('qx');    qy = MX.sym('qy');    qz = MX.sym('qz');    qw = MX.sym('qw');\n",
    "vx = MX.sym('vx');    vy = MX.sym('vy');    vz = MX.sym('vz');\n",
    "wx = MX.sym('wx');    wy = MX.sym('wy');    wz = MX.sym('wz');\n",
    "quat = vertcat(qx,qy,qz,qw)\n",
    "state = vertcat(rx,ry,rz,qx,qy,qz,qw,vx,vy,vz,wx,wy,wz)\n",
    "\n",
    "Fx = MX.sym('Fx');    Fy = MX.sym('Fy');    Fz = MX.sym('Fz');\n",
    "Mx = MX.sym('Mx');    My = MX.sym('My');    Mz = MX.sym('Mz');\n",
    "control = vertcat(Fx,Fy,Fz,Mx,My,Mz)"
   ]
  },
  {
   "cell_type": "markdown",
   "metadata": {},
   "source": [
    "Start with empty NLP"
   ]
  },
  {
   "cell_type": "code",
   "execution_count": null,
   "metadata": {},
   "outputs": [],
   "source": [
    "w = []    # the decision variables lbw < w < ubw\n",
    "lbw = []  # lower bound constraint on dec var\n",
    "ubw = []  # upper bound constraint on dec var\n",
    "g = []    # vector for constraints lbg < g(w,p) < ubg\n",
    "lbg = []  # lower bound on constraints\n",
    "ubg = []  # upper bound on constraints"
   ]
  },
  {
   "cell_type": "markdown",
   "metadata": {},
   "source": [
    "Declare decision variables"
   ]
  },
  {
   "cell_type": "code",
   "execution_count": null,
   "metadata": {},
   "outputs": [],
   "source": [
    "X = []\n",
    "for k in range(N):\n",
    "    Xn = MX.sym('X_'+str(k), n)\n",
    "    X += [Xn]\n",
    "    w += [Xn]\n",
    "    lbw += Xlb.tolist()\n",
    "    ubw += Xub.tolist()\n",
    "\n",
    "# control\n",
    "U = []\n",
    "for k in range(N-1):\n",
    "    Un = MX.sym('U_' + str(k), m)\n",
    "    U += [Un]\n",
    "    lbw += Ulb.tolist()\n",
    "    ubw += Uub.tolist()\n",
    "    w   += [Un]"
   ]
  },
  {
   "cell_type": "markdown",
   "metadata": {},
   "source": [
    "Discrete update equation"
   ]
  },
  {
   "cell_type": "code",
   "execution_count": null,
   "metadata": {},
   "outputs": [],
   "source": [
    "# #  ODE right hand side function\n",
    "# f = Function('f', [state,control],[statedot])\n",
    "\n",
    "# # Integrate with Explicit Euler over 0.2 seconds\n",
    "# dh = 0.01  # Time step\n",
    "# xj = state\n",
    "# n_steps = int(10)\n",
    "# for ii in range(n_steps):\n",
    "#     fj = f(xj,control)\n",
    "#     xj += dh*fj\n",
    "\n",
    "# # Discrete time dynamics function\n",
    "# F = Function('F', [state,control],[xj])"
   ]
  },
  {
   "cell_type": "markdown",
   "metadata": {},
   "source": [
    "Dynamics propagation"
   ]
  },
  {
   "cell_type": "code",
   "execution_count": null,
   "metadata": {},
   "outputs": [],
   "source": [
    "X0 = X[0]\n",
    "Q = X0\n",
    "for ii in range(N-1):\n",
    "    dh = tau_guess / (N-1)\n",
    "    Ak, Bk = np.eye(n) + dh*As[ii], dh*Bs[ii]\n",
    "    ck = dh * (fs[ii] - As[ii] @ Xprev[:,ii] - Bs[ii] @ Uprev[:,ii])\n",
    "    Q = Ak @ X[ii] + Bk @ U[ii] + ck - X[ii+1]\n",
    "    g += [Q]\n",
    "    lbg += [np.zeros(n).tolist()]\n",
    "    ubg += [np.zeros(n).tolist()]"
   ]
  },
  {
   "cell_type": "markdown",
   "metadata": {},
   "source": [
    "Cost function"
   ]
  },
  {
   "cell_type": "code",
   "execution_count": null,
   "metadata": {},
   "outputs": [],
   "source": [
    "Xi = np.array([3.,3.,3., 0.,0.,0.,1., 0.05,-0.05,0.02, 0.01,-0.01,0.01])\n",
    "\n",
    "Xref = DM([0.,0.1,0., 0.5,0.5,0.5,0.5, 0.,0.,0., 0.,0.,0.])\n",
    "\n",
    "J = 0.\n",
    "for ii in range(N):\n",
    "    stage_cost = (rx-Xref[0])**2 + (ry-Xref[1])**2 + (rz-Xref[2])**2 + \\\n",
    "        casadi.arccos(casadi.dot(Xref[3:7], quat)) + \\\n",
    "        vx**2 + vy**2 + vz**2 + wx**2 + wy**2 + wz**2 \n",
    "    stage_cost = casadi.dot(X[ii] - Xref, X[ii] - Xref)\n",
    "    J += stage_cost"
   ]
  },
  {
   "cell_type": "code",
   "execution_count": null,
   "metadata": {},
   "outputs": [],
   "source": [
    "prob = {'f': J, 'x': vertcat(*w), 'g': vertcat(*g)}\n",
    "opts = {'verbose':False}\n",
    "\n",
    "solver = nlpsol('S', 'ipopt', prob);\n",
    "# solver = qpsol('S', 'osqp', prob)"
   ]
  },
  {
   "cell_type": "code",
   "execution_count": null,
   "metadata": {},
   "outputs": [],
   "source": [
    "def update_dynamics(Xprev, Uprev, params):\n",
    "    N = Xprev.shape[1]\n",
    "    fs, As, Bs = [], [], []\n",
    "    for idx in range(N-1):\n",
    "        fs.append(update_f(Xprev[:,idx], Uprev[:,idx], params))\n",
    "        As.append(update_A(Xprev[:,idx], Uprev[:,idx], params))\n",
    "        Bs.append(update_B(Xprev[:,idx], Uprev[:,idx], params))\n",
    "    return fs, As, Bs\n",
    "\n",
    "def normalize_quaternion(Xprev):\n",
    "    q = Xprev[3:7]\n",
    "    Xprev[3:7] = q / np.linalg.norm(q, ord=2)\n",
    "    return Xprev"
   ]
  },
  {
   "cell_type": "code",
   "execution_count": null,
   "metadata": {},
   "outputs": [],
   "source": [
    "max_iter = 5\n",
    "\n",
    "Xprev, Uprev = np.zeros((n,N)), np.zeros((m,N-1))\n",
    "for ii in range(3):\n",
    "    Xprev[ii,:] = np.linspace(Xi[ii], np.array(Xref)[ii], num=N).flatten()\n",
    "    Xprev[7+ii,:] = np.linspace(Xi[7+ii], np.array(Xref)[7+ii], num=N).flatten()\n",
    "    Xprev[10+ii,:] = np.linspace(Xi[10+ii], np.array(Xref)[10+ii], num=N).flatten()\n",
    "\n",
    "qi = Xi[3:7].flatten()\n",
    "qf = np.array(Xref)[3:7].flatten()\n",
    "for idx, time in enumerate(np.linspace(0.,1., N)):\n",
    "    Xprev[3:7, idx] = slerp(qi, qf, time)\n",
    "\n",
    "fs, As, Bs = update_dynamics(Xprev, Uprev, params)\n",
    "\n",
    "for itr in range(max_iter):\n",
    "    use_guess = True\n",
    "    if use_guess:\n",
    "        w0 = [] # initial guess of decision variables\n",
    "        for ii in range(N):\n",
    "            w0 += Xprev[:,ii].tolist()\n",
    "        for ii in range(N-1):\n",
    "            w0 += Uprev[:,ii].tolist()\n",
    "        soln = solver(x0=w0, lbx=lbw, ubx=ubw, lbg=vertcat(*lbg), ubg=vertcat(*ubg))\n",
    "    else:\n",
    "        soln = solver(lbx=lbw, ubx=ubw, lbg=vertcat(*lbg), ubg=vertcat(*ubg))\n",
    "\n",
    "    if not solver.stats()['success']:\n",
    "        print('Solver failed at iteration {}'.format(itr))\n",
    "        break\n",
    "\n",
    "    Xprev = np.reshape(np.asarray(soln['x'][:n*N]), (N,n)).T\n",
    "    Uprev = np.reshape(np.asarray(soln['x'][n*N:]), (N-1,m)).T\n",
    "    for ii in range(N):\n",
    "        Xprev[:,ii] = normalize_quaternion(Xprev[:,ii])\n",
    "\n",
    "    fs, As, Bs = update_dynamics(Xprev, Uprev, params)"
   ]
  },
  {
   "cell_type": "code",
   "execution_count": null,
   "metadata": {},
   "outputs": [],
   "source": [
    "solver.stats().keys()"
   ]
  },
  {
   "cell_type": "markdown",
   "metadata": {},
   "source": [
    "# TAMP Class\n"
   ]
  },
  {
   "cell_type": "code",
   "execution_count": 71,
   "metadata": {},
   "outputs": [],
   "source": [
    "from astrobee_tamp import AstrobeeTAMP\n",
    "\n",
    "Xi = np.array([3.,3.,3., 0.,0.,0.,1., 0.05,-0.05,0.02, 0.01,-0.01,0.01])\n",
    "\n",
    "Xref = DM([0.,0.1,0., 0.5,0.5,0.5,0.5, 0.,0.,0., 0.,0.,0.])\n",
    "\n",
    "at = AstrobeeTAMP(Xi, Xref)\n",
    "\n",
    "at.plan = plan\n",
    "at.init_straightline()"
   ]
  },
  {
   "cell_type": "code",
   "execution_count": 72,
   "metadata": {},
   "outputs": [
    {
     "name": "stdout",
     "output_type": "stream",
     "text": [
      "This is Ipopt version 3.12.3, running with linear solver mumps.\n",
      "NOTE: Other linear solvers might be more efficient (see Ipopt documentation).\n",
      "\n",
      "Number of nonzeros in equality constraint Jacobian...:        0\n",
      "Number of nonzeros in inequality constraint Jacobian.:        0\n",
      "Number of nonzeros in Lagrangian Hessian.............:        0\n",
      "\n",
      "Total number of variables............................:      539\n",
      "                     variables with only lower bounds:        0\n",
      "                variables with lower and upper bounds:      452\n",
      "                     variables with only upper bounds:        0\n",
      "Total number of equality constraints.................:        0\n",
      "Total number of inequality constraints...............:        0\n",
      "        inequality constraints with only lower bounds:        0\n",
      "   inequality constraints with lower and upper bounds:        0\n",
      "        inequality constraints with only upper bounds:        0\n",
      "\n",
      "iter    objective    inf_pr   inf_du lg(mu)  ||d||  lg(rg) alpha_du alpha_pr  ls\n",
      "   0  0.0000000e+00 0.00e+00 0.00e+00  -1.0 0.00e+00    -  0.00e+00 0.00e+00   0\n",
      "   1  0.0000000e+00 0.00e+00 9.70e-06  -1.0 9.80e-02  -4.0 9.90e-01 1.00e+00f  1\n",
      "   2  0.0000000e+00 0.00e+00 1.25e-05  -1.0 3.77e-01  -4.5 9.92e-01 1.00e+00f  1\n",
      "   3  0.0000000e+00 0.00e+00 3.35e-08  -1.7 3.01e-03  -5.0 1.00e+00 1.00e+00f  1\n",
      "   4  0.0000000e+00 0.00e+00 3.36e-10  -3.8 9.06e-05  -5.4 1.00e+00 1.00e+00f  1\n",
      "   5  0.0000000e+00 0.00e+00 1.81e-10  -5.7 1.47e-04  -5.9 1.00e+00 1.00e+00f  1\n",
      "   6  0.0000000e+00 0.00e+00 6.42e-12  -8.6 1.56e-05  -6.4 1.00e+00 1.00e+00f  1\n",
      "\n",
      "Number of Iterations....: 6\n",
      "\n",
      "                                   (scaled)                 (unscaled)\n",
      "Objective...............:   0.0000000000000000e+00    0.0000000000000000e+00\n",
      "Dual infeasibility......:   6.4245233981848645e-12    6.4245233981848645e-12\n",
      "Constraint violation....:   0.0000000000000000e+00    0.0000000000000000e+00\n",
      "Complementarity.........:   2.5634280892672736e-09    2.5634280892672736e-09\n",
      "Overall NLP error.......:   2.5634280892672736e-09    2.5634280892672736e-09\n",
      "\n",
      "\n",
      "Number of objective function evaluations             = 7\n",
      "Number of objective gradient evaluations             = 7\n",
      "Number of equality constraint evaluations            = 0\n",
      "Number of inequality constraint evaluations          = 0\n",
      "Number of equality constraint Jacobian evaluations   = 0\n",
      "Number of inequality constraint Jacobian evaluations = 0\n",
      "Number of Lagrangian Hessian evaluations             = 6\n",
      "Total CPU secs in IPOPT (w/o function evaluations)   =      0.007\n",
      "Total CPU secs in NLP function evaluations           =      0.000\n",
      "\n",
      "EXIT: Optimal Solution Found.\n",
      "           S  :   t_proc      (avg)   t_wall      (avg)    n_eval\n",
      "       nlp_f  |  33.00us (  4.71us)  29.60us (  4.23us)         7\n",
      "  nlp_grad_f  |  48.00us (  6.00us)  44.68us (  5.59us)         8\n",
      "  nlp_hess_l  |  18.00us (  3.00us)  16.09us (  2.68us)         6\n",
      "       total  |  14.65ms ( 14.65ms)  12.95ms ( 12.95ms)         1\n"
     ]
    },
    {
     "data": {
      "text/plain": [
       "True"
      ]
     },
     "execution_count": 72,
     "metadata": {},
     "output_type": "execute_result"
    }
   ],
   "source": [
    "at.unroll_plan()\n",
    "at.construct_problem()\n",
    "at.solve_problem()"
   ]
  }
 ],
 "metadata": {
  "kernelspec": {
   "display_name": "tamp",
   "language": "python",
   "name": "tamp"
  },
  "language_info": {
   "codemirror_mode": {
    "name": "ipython",
    "version": 3
   },
   "file_extension": ".py",
   "mimetype": "text/x-python",
   "name": "python",
   "nbconvert_exporter": "python",
   "pygments_lexer": "ipython3",
   "version": "3.6.3"
  }
 },
 "nbformat": 4,
 "nbformat_minor": 2
}
