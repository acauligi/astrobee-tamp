{
 "cells": [
  {
   "cell_type": "code",
   "execution_count": 1,
   "metadata": {},
   "outputs": [],
   "source": [
    "%load_ext autoreload\n",
    "%autoreload 2\n",
    "\n",
    "import matplotlib.pyplot as plt\n",
    "%matplotlib inline\n",
    "\n",
    "from astrobee_strips import STRIPS, Node, Queue, get_plan\n",
    "\n",
    "from sys import path\n",
    "path.append('/home/acauligi/Software')\n",
    "\n",
    "import pdb\n",
    "import numpy as np\n",
    "from casadi import *"
   ]
  },
  {
   "cell_type": "markdown",
   "metadata": {},
   "source": [
    "# STRIPS planner"
   ]
  },
  {
   "cell_type": "code",
   "execution_count": 2,
   "metadata": {},
   "outputs": [],
   "source": [
    "strip = STRIPS()\n",
    "n0 = Node(strip)\n",
    "qq = Queue()\n",
    "qq.queue(n0)\n",
    "\n",
    "operators = ['dock_objA_dockA', 'dock_objA_dockB', 'dock_objA_dockC', \\\n",
    "            'dock_objB_dockA', 'dock_objB_dockB', 'dock_objB_dockC', \\\n",
    "            'undock_objA_dockA', 'undock_objA_dockB', 'undock_objA_dockC', \\\n",
    "            'undock_objB_dockA', 'undock_objB_dockB', 'undock_objB_dockC', \\\n",
    "            'grasp_objA', 'grasp_objB']\n",
    "\n",
    "max_depth = 5"
   ]
  },
  {
   "cell_type": "code",
   "execution_count": 3,
   "metadata": {},
   "outputs": [
    {
     "name": "stdout",
     "output_type": "stream",
     "text": [
      "solved\n"
     ]
    }
   ],
   "source": [
    "while not qq.is_empty():\n",
    "    if all([node.depth >= max_depth for node in qq.list]):\n",
    "        print('Max depth violated')\n",
    "        break\n",
    "\n",
    "    leaf_node = qq.dequeue()\n",
    "    for operator in operators:\n",
    "        new_leaf = leaf_node.act(operator)\n",
    "        if all(new_leaf.strip.state == leaf_node.strip.state):\n",
    "            continue\n",
    "        qq.queue(new_leaf)\n",
    "\n",
    "    if any([node.solved for node in qq.list]):\n",
    "        print('solved')\n",
    "        break"
   ]
  },
  {
   "cell_type": "code",
   "execution_count": 4,
   "metadata": {},
   "outputs": [
    {
     "data": {
      "text/plain": [
       "['undock_objA_dockB', 'dock_objA_dockA', 'grasp_objB', 'dock_objB_dockB']"
      ]
     },
     "execution_count": 4,
     "metadata": {},
     "output_type": "execute_result"
    }
   ],
   "source": [
    "solved_node = [node for node in qq.list if node.solved][0]\n",
    "plan = get_plan(solved_node)\n",
    "plan"
   ]
  },
  {
   "cell_type": "markdown",
   "metadata": {},
   "source": [
    "# TAMP Class\n"
   ]
  },
  {
   "cell_type": "code",
   "execution_count": 5,
   "metadata": {},
   "outputs": [],
   "source": [
    "from astrobee_tamp import AstrobeeTAMP\n",
    "\n",
    "mode = 'double_integrator'\n",
    "\n",
    "if mode == 'nonlinear':\n",
    "    Xi = np.array([3.,3.,3., 0.,0.,0.,1., 0.05,-0.05,0.02, 0.01,-0.01,0.01])\n",
    "    Xref = DM([0.,0.1,0., 0.5,0.5,0.5,0.5, 0.,0.,0., 0.,0.,0.])\n",
    "elif mode == 'double_integrator':\n",
    "    Xi = np.array([3.,3., 0., 0.])\n",
    "    Xref = DM([0.,0.1, 0., 0.])\n",
    "\n",
    "at = AstrobeeTAMP(Xi, Xref, mode=mode)\n",
    "\n",
    "at.plan = plan"
   ]
  },
  {
   "cell_type": "code",
   "execution_count": 6,
   "metadata": {},
   "outputs": [
    {
     "name": "stdout",
     "output_type": "stream",
     "text": [
      "\n",
      "******************************************************************************\n",
      "This program contains Ipopt, a library for large-scale nonlinear optimization.\n",
      " Ipopt is released as open source code under the Eclipse Public License (EPL).\n",
      "         For more information visit http://projects.coin-or.org/Ipopt\n",
      "******************************************************************************\n",
      "\n",
      "This is Ipopt version 3.12.3, running with linear solver mumps.\n",
      "NOTE: Other linear solvers might be more efficient (see Ipopt documentation).\n",
      "\n",
      "Number of nonzeros in equality constraint Jacobian...:     1076\n",
      "Number of nonzeros in inequality constraint Jacobian.:        0\n",
      "Number of nonzeros in Lagrangian Hessian.............:      264\n",
      "\n",
      "Total number of variables............................:      236\n",
      "                     variables with only lower bounds:        0\n",
      "                variables with lower and upper bounds:      158\n",
      "                     variables with only upper bounds:        0\n",
      "Total number of equality constraints.................:      156\n",
      "Total number of inequality constraints...............:        0\n",
      "        inequality constraints with only lower bounds:        0\n",
      "   inequality constraints with lower and upper bounds:        0\n",
      "        inequality constraints with only upper bounds:        0\n",
      "\n",
      "iter    objective    inf_pr   inf_du lg(mu)  ||d||  lg(rg) alpha_du alpha_pr  ls\n",
      "   0  1.7800000e+01 3.00e+00 5.21e-02  -1.0 0.00e+00    -  0.00e+00 0.00e+00   0\n",
      "   1  5.0222829e+02 4.44e-16 4.51e-03  -1.0 2.17e+02    -  9.49e-01 1.00e+00h  1\n",
      "   2  4.9322758e+02 4.44e-16 2.06e-03  -1.0 8.13e+01    -  9.75e-01 1.00e+00f  1\n",
      "   3  4.9321798e+02 4.44e-16 1.38e-05  -1.0 3.88e+00    -  9.96e-01 1.00e+00f  1\n",
      "   4  4.9321798e+02 4.44e-16 2.22e-14  -2.5 9.77e-03    -  1.00e+00 1.00e+00h  1\n",
      "   5  4.9321798e+02 4.44e-16 1.60e-14  -3.8 8.91e-05    -  1.00e+00 1.00e+00h  1\n",
      "   6  4.9321798e+02 8.88e-16 2.13e-14  -5.7 4.93e-06    -  1.00e+00 1.00e+00h  1\n",
      "   7  4.9321798e+02 4.44e-16 1.87e-14  -8.6 6.11e-08    -  1.00e+00 1.00e+00h  1\n",
      "\n",
      "Number of Iterations....: 7\n",
      "\n",
      "                                   (scaled)                 (unscaled)\n",
      "Objective...............:   4.9321797980328608e+02    4.9321797980328608e+02\n",
      "Dual infeasibility......:   1.8651746813702630e-14    1.8651746813702630e-14\n",
      "Constraint violation....:   4.4408920985006262e-16    4.4408920985006262e-16\n",
      "Complementarity.........:   2.5059035831119292e-09    2.5059035831119292e-09\n",
      "Overall NLP error.......:   2.5059035831119292e-09    2.5059035831119292e-09\n",
      "\n",
      "\n",
      "Number of objective function evaluations             = 8\n",
      "Number of objective gradient evaluations             = 8\n",
      "Number of equality constraint evaluations            = 8\n",
      "Number of inequality constraint evaluations          = 0\n",
      "Number of equality constraint Jacobian evaluations   = 8\n",
      "Number of inequality constraint Jacobian evaluations = 0\n",
      "Number of Lagrangian Hessian evaluations             = 7\n",
      "Total CPU secs in IPOPT (w/o function evaluations)   =      0.009\n",
      "Total CPU secs in NLP function evaluations           =      0.002\n",
      "\n",
      "EXIT: Optimal Solution Found.\n",
      "           S  :   t_proc      (avg)   t_wall      (avg)    n_eval\n",
      "       nlp_f  | 322.00us ( 40.25us) 107.61us ( 13.45us)         8\n",
      "       nlp_g  | 371.00us ( 46.38us) 122.45us ( 15.31us)         8\n",
      "  nlp_grad_f  | 556.00us ( 61.78us) 175.62us ( 19.51us)         9\n",
      "  nlp_hess_l  | 565.00us ( 80.71us) 188.96us ( 26.99us)         7\n",
      "   nlp_jac_g  |   1.21ms (134.22us) 404.59us ( 44.95us)         9\n",
      "       total  |  22.80ms ( 22.80ms)   7.28ms (  7.28ms)         1\n"
     ]
    },
    {
     "data": {
      "text/plain": [
       "True"
      ]
     },
     "execution_count": 6,
     "metadata": {},
     "output_type": "execute_result"
    }
   ],
   "source": [
    "at.unroll_plan()\n",
    "\n",
    "at.construct_problem()\n",
    "at.solve_problem()"
   ]
  },
  {
   "cell_type": "code",
   "execution_count": 7,
   "metadata": {},
   "outputs": [
    {
     "data": {
      "text/plain": [
       "40"
      ]
     },
     "execution_count": 7,
     "metadata": {},
     "output_type": "execute_result"
    }
   ],
   "source": [
    "at.soln['f']\n",
    "at.soln['x'].shape\n",
    "len(plan)\n",
    "len(at.X)\n",
    "len(at.U)"
   ]
  }
 ],
 "metadata": {
  "kernelspec": {
   "display_name": "tamp",
   "language": "python",
   "name": "tamp"
  },
  "language_info": {
   "codemirror_mode": {
    "name": "ipython",
    "version": 3
   },
   "file_extension": ".py",
   "mimetype": "text/x-python",
   "name": "python",
   "nbconvert_exporter": "python",
   "pygments_lexer": "ipython3",
   "version": "3.6.3"
  }
 },
 "nbformat": 4,
 "nbformat_minor": 2
}
